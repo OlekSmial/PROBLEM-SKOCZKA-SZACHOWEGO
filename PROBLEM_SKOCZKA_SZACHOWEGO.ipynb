{
  "nbformat": 4,
  "nbformat_minor": 0,
  "metadata": {
    "colab": {
      "provenance": [],
      "authorship_tag": "ABX9TyP9TdheoA4ONFgAB5tkq9Wc",
      "include_colab_link": true
    },
    "kernelspec": {
      "name": "python3",
      "display_name": "Python 3"
    },
    "language_info": {
      "name": "python"
    }
  },
  "cells": [
    {
      "cell_type": "markdown",
      "metadata": {
        "id": "view-in-github",
        "colab_type": "text"
      },
      "source": [
        "<a href=\"https://colab.research.google.com/github/OlekSmial/PROBLEM-SKOCZKA-SZACHOWEGO/blob/main/PROBLEM_SKOCZKA_SZACHOWEGO.ipynb\" target=\"_parent\"><img src=\"https://colab.research.google.com/assets/colab-badge.svg\" alt=\"Open In Colab\"/></a>"
      ]
    },
    {
      "cell_type": "markdown",
      "source": [
        "PROBLEM SKOCZKA SZACHOWEGO\n",
        "**1 KLASYCZNIE BEZ HEURYSTYKI**"
      ],
      "metadata": {
        "id": "zBLn4mFlUCaT"
      }
    },
    {
      "cell_type": "code",
      "execution_count": 1,
      "metadata": {
        "id": "HPTKxSZZLRW1",
        "colab": {
          "base_uri": "https://localhost:8080/"
        },
        "outputId": "49e9ffbf-2c5e-4d70-8e14-65a748e42032"
      },
      "outputs": [
        {
          "output_type": "stream",
          "name": "stdout",
          "text": [
            "Podaj rozmiar szachownicy ( np. 5 dla 5x5): 5\n",
            "\n",
            "Znaleziono rozwiązanie!\n",
            "\n",
            " 0 17 10  5 20\n",
            " 9  4 19 16 11\n",
            "18  1 14 21  6\n",
            " 3  8 23 12 15\n",
            "24 13  2  7 22\n"
          ]
        }
      ],
      "source": [
        "N = int(input(\"Podaj rozmiar szachownicy ( np. 5 dla 5x5): \"))\n",
        "# możliwe ruchy\n",
        "moves = [\n",
        "    [2, 1], [1, 2], [2, -1], [1, -2],\n",
        "    [-1, -2], [-2, -1], [-2, 1], [-1, 2]\n",
        "]\n",
        "# plansza i nieodwiedzone pole\n",
        "board = [[-1 for _ in range(N)] for _ in range(N)]\n",
        "# czy ruch jest dozwolony ?\n",
        "def is_safe(x, y):\n",
        "  return 0 <= x < N and 0 <= y < N and  board[x][y] == -1\n",
        "# ruszamy się i liczymy jak przejdziemy wszystko to koniec\n",
        "def solve_knight(x, y, move_count):\n",
        "  if  move_count == N * N:\n",
        "    return True\n",
        "  for dx, dy in moves:\n",
        "    next_x = x + dx\n",
        "    next_y = y + dy\n",
        "    if is_safe(next_x, next_y):\n",
        "      board[next_x][next_y] = move_count\n",
        "      if solve_knight(next_x, next_y, move_count + 1):\n",
        "        return True\n",
        "      board[next_x][next_y] = -1  # backtracking\n",
        "\n",
        "  return False\n",
        "\n",
        "start_x, start_y = 0, 0\n",
        "board[start_x][start_y] = 0\n",
        "\n",
        "if solve_knight(start_x, start_y, 1):\n",
        "  print(\"\\nZnaleziono rozwiązanie!\\n\")\n",
        "  for row in board:\n",
        "    print(\" \".join(f\"{cell:2}\" for cell in row)) # tworzy nam plansze z tym jakie kroki postawił\n",
        "else:\n",
        "  print(\"Brak rozwiazania\")\n",
        "\n"
      ]
    },
    {
      "cell_type": "markdown",
      "source": [
        "**2 Z HEURYSTYKĄ**"
      ],
      "metadata": {
        "id": "Z4p7Q32pVdUZ"
      }
    },
    {
      "cell_type": "code",
      "source": [
        "N = int(input(\"Podaj rozmiar szachownicy (np. 5): \"))\n",
        "\n",
        "moves = [\n",
        "    [2, 1], [1, 2], [2, -1], [1, -2],\n",
        "    [-1, -2], [-2, -1], [-2, 1], [-1, 2]\n",
        "]\n",
        "\n",
        "board = [[-1 for _ in range(N)] for _ in range(N)]\n",
        "\n",
        "def is_safe(x, y):\n",
        "  return 0 <= x < N and 0 <= y < N and board[x][y] == -1\n",
        "# nasza heurystyka\n",
        "def heuristic(x, y):\n",
        "  count = 0\n",
        "  for dx, dy in moves:\n",
        "    nx, ny = x + dx, y + dy\n",
        "    if is_safe(nx, ny):\n",
        "      count += 1\n",
        "    return count\n",
        "def solve_knight(x, y, move_count):\n",
        "  if move_count == N * N:\n",
        "    return True\n",
        "  next_moves = []\n",
        "  for dx, dy in moves:\n",
        "    nx, ny = x +dx, y + dy\n",
        "    if is_safe(nx, ny):\n",
        "      onward = heuristic(nx, ny)\n",
        "      next_moves.append((nx, ny, onward))\n",
        "\n",
        "  next_moves.sort()\n",
        "\n",
        "  for nx, ny, _ in next_moves:\n",
        "    board[nx][ny] = move_count\n",
        "    if solve_knight(nx, ny, move_count + 1):\n",
        "      return True\n",
        "    board[nx][ny] = -1 # znowu cofanie\n",
        "\n",
        "start_x, start_y = 0, 0\n",
        "board[start_x][start_y] = 0\n",
        "\n",
        "if solve_knight(start_x, start_y, 1):\n",
        "    for row in board:\n",
        "        print(\" \".join(f\"{cell:2}\" for cell in row))\n",
        "else:\n",
        "    print(\"Brak rozwiązania dla tej szachownicy.\")\n",
        "\n",
        "\n"
      ],
      "metadata": {
        "colab": {
          "base_uri": "https://localhost:8080/"
        },
        "id": "3j8iMZJjVcHn",
        "outputId": "d45a464a-6405-4839-89d4-87bce50d1116"
      },
      "execution_count": 3,
      "outputs": [
        {
          "output_type": "stream",
          "name": "stdout",
          "text": [
            "Podaj rozmiar szachownicy (np. 5): 8\n",
            " 0 11  8  5  2 13 16 19\n",
            " 9  6  1 12 17 20  3 14\n",
            "30 27 10  7  4 15 18 21\n",
            "63 24 31 28 35 22 47 44\n",
            "32 29 26 23 48 45 36 57\n",
            "25 62 51 34 39 56 43 46\n",
            "52 33 60 49 54 41 58 37\n",
            "61 50 53 40 59 38 55 42\n"
          ]
        }
      ]
    }
  ]
}